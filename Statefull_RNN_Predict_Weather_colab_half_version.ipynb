{
  "nbformat": 4,
  "nbformat_minor": 5,
  "metadata": {
    "kernelspec": {
      "display_name": "Python 3",
      "language": "python",
      "name": "python3"
    },
    "language_info": {
      "codemirror_mode": {
        "name": "ipython",
        "version": 3
      },
      "file_extension": ".py",
      "mimetype": "text/x-python",
      "name": "python",
      "nbconvert_exporter": "python",
      "pygments_lexer": "ipython3",
      "version": "3.8.8"
    },
    "colab": {
      "name": "Statefull_RNN_Predict_Weather_colab_half_version.ipynb",
      "provenance": [],
      "collapsed_sections": []
    }
  },
  "cells": [
    {
      "cell_type": "markdown",
      "metadata": {
        "id": "716203d9"
      },
      "source": [
        "# Goal: Predict Furture 12 hours' temperature by Past 6 hours temperature"
      ],
      "id": "716203d9"
    },
    {
      "cell_type": "code",
      "metadata": {
        "colab": {
          "base_uri": "https://localhost:8080/"
        },
        "id": "W-sVNp-VfDpn",
        "outputId": "03f7d4f2-ed80-4781-9c94-4be3237532a4"
      },
      "source": [
        "from google.colab import drive # Import a library named google.colab\n",
        "drive.mount('/content/drive', force_remount=True) # mount the content to the directory `/content/drive`\n",
        "\n",
        "%cd /content/drive/MyDrive/ML_Books"
      ],
      "id": "W-sVNp-VfDpn",
      "execution_count": 1,
      "outputs": [
        {
          "output_type": "stream",
          "name": "stdout",
          "text": [
            "Mounted at /content/drive\n",
            "/content/drive/MyDrive/ML_Books\n"
          ]
        }
      ]
    },
    {
      "cell_type": "code",
      "metadata": {
        "id": "d03904de"
      },
      "source": [
        "fname = 'TY_climate_2015_2018.csv'\n",
        "f = open(fname, encoding = 'cp950')\n",
        "data = f.read()\n",
        "f.close()"
      ],
      "id": "d03904de",
      "execution_count": 2,
      "outputs": []
    },
    {
      "cell_type": "code",
      "metadata": {
        "colab": {
          "base_uri": "https://localhost:8080/",
          "height": 55
        },
        "id": "dbcd45d6",
        "outputId": "2e5d100c-8054-4be5-d250-8da6ea72699b"
      },
      "source": [
        "lines = data.split('\\n')\n",
        "header = lines[0].split(',')\n",
        "lines[0] # these are lables"
      ],
      "id": "dbcd45d6",
      "execution_count": 3,
      "outputs": [
        {
          "output_type": "execute_result",
          "data": {
            "application/vnd.google.colaboratory.intrinsic+json": {
              "type": "string"
            },
            "text/plain": [
              "'緯度,經度,測站名稱,測站ID,觀測資料時間,高度,風向,風速,溫度,相對濕度,測站氣壓,日照時數,日累積雨量,小時最大陣風風速,小時最大陣風風向,小時最大陣風風向,縣市,縣市編號,鄉鎮,鄉鎮編號'"
            ]
          },
          "metadata": {},
          "execution_count": 3
        }
      ]
    },
    {
      "cell_type": "code",
      "metadata": {
        "id": "243a05f9"
      },
      "source": [
        "del lines[0]"
      ],
      "id": "243a05f9",
      "execution_count": 4,
      "outputs": []
    },
    {
      "cell_type": "code",
      "metadata": {
        "colab": {
          "base_uri": "https://localhost:8080/"
        },
        "id": "e7f2b1c0",
        "outputId": "7305b0f1-e468-4c3c-b5b4-8dc9ace160ed"
      },
      "source": [
        "print(len(lines))\n",
        "print(header)\n",
        "print()\n",
        "print(header[8])"
      ],
      "id": "e7f2b1c0",
      "execution_count": 5,
      "outputs": [
        {
          "output_type": "stream",
          "name": "stdout",
          "text": [
            "196856\n",
            "['緯度', '經度', '測站名稱', '測站ID', '觀測資料時間', '高度', '風向', '風速', '溫度', '相對濕度', '測站氣壓', '日照時數', '日累積雨量', '小時最大陣風風速', '小時最大陣風風向', '小時最大陣風風向', '縣市', '縣市編號', '鄉鎮', '鄉鎮編號']\n",
            "\n",
            "溫度\n"
          ]
        }
      ]
    },
    {
      "cell_type": "markdown",
      "metadata": {
        "id": "34fcf239"
      },
      "source": [
        "## Start to plot the temparture change"
      ],
      "id": "34fcf239"
    },
    {
      "cell_type": "code",
      "metadata": {
        "colab": {
          "base_uri": "https://localhost:8080/",
          "height": 266
        },
        "id": "e8c42c25",
        "outputId": "0af15e19-fa25-46da-ec99-59a65d2ebb23"
      },
      "source": [
        "import numpy as np \n",
        "from matplotlib import pyplot as plt\n",
        "\n",
        "raw_data = []\n",
        "# enumerate will give the count number of the loop (i)\n",
        "for i, line in enumerate(lines):\n",
        "    temperature = float(line.split(',')[8]) # get the information \n",
        "    raw_data.append(temperature) # for RNN format \n",
        "\n",
        "raw_data = np.array(raw_data) # convert it into  numpy array \n",
        "plt.plot(raw_data)\n",
        "plt.show()"
      ],
      "id": "e8c42c25",
      "execution_count": 6,
      "outputs": [
        {
          "output_type": "display_data",
          "data": {
            "image/png": "[encoded data removed]",
            "text/plain": [
              "<Figure size 432x288 with 1 Axes>"
            ]
          },
          "metadata": {
            "needs_background": "light"
          }
        }
      ]
    },
    {
      "cell_type": "code",
      "metadata": {
        "colab": {
          "base_uri": "https://localhost:8080/",
          "height": 265
        },
        "id": "2af5d65b",
        "outputId": "c5fcb8b3-fa8e-4e42-ea9f-1694475dd57d"
      },
      "source": [
        "plt.plot(raw_data[:720]) # the data is recorded every 10 minutes, so a day have 144 datas\n",
        "plt.show()"
      ],
      "id": "2af5d65b",
      "execution_count": 7,
      "outputs": [
        {
          "output_type": "display_data",
          "data": {
            "image/png": "[encoded data removed]",
            "text/plain": [
              "<Figure size 432x288 with 1 Axes>"
            ]
          },
          "metadata": {
            "needs_background": "light"
          }
        }
      ]
    },
    {
      "cell_type": "markdown",
      "metadata": {
        "id": "cP85mL5cNc9T"
      },
      "source": [
        "## Because we are going to use first 100000 data as our training data, we have to use first 100000 data to standarize every data.\n",
        "## Standarization can improve the prediction."
      ],
      "id": "cP85mL5cNc9T"
    },
    {
      "cell_type": "code",
      "metadata": {
        "colab": {
          "base_uri": "https://localhost:8080/",
          "height": 265
        },
        "id": "aecb52de",
        "outputId": "07a22b41-de64-422f-a16b-7f27104f09a9"
      },
      "source": [
        "# for the standarization \n",
        "# print(raw_data)\n",
        "mean = raw_data[:100000].mean()\n",
        "raw_data -= mean \n",
        "std = raw_data[:100000].std()\n",
        "raw_data /= std\n",
        "plt.plot(raw_data)\n",
        "plt.show()"
      ],
      "id": "aecb52de",
      "execution_count": 8,
      "outputs": [
        {
          "output_type": "display_data",
          "data": {
            "image/png": "[encoded data removed]",
            "text/plain": [
              "<Figure size 432x288 with 1 Axes>"
            ]
          },
          "metadata": {
            "needs_background": "light"
          }
        }
      ]
    },
    {
      "cell_type": "markdown",
      "metadata": {
        "id": "2ccef216"
      },
      "source": [
        "## Create the data type for RNN  "
      ],
      "id": "2ccef216"
    },
    {
      "cell_type": "code",
      "metadata": {
        "colab": {
          "base_uri": "https://localhost:8080/"
        },
        "id": "a6727e62",
        "outputId": "e7b28bef-b544-4cb1-cb8f-e45f05dc20a2"
      },
      "source": [
        "new_raw_data=[]\n",
        "for i in range(len(raw_data)):\n",
        "    new_raw_data.append([raw_data[i]])\n",
        "print(type(new_raw_data))\n",
        "new_raw_data = np.array(new_raw_data)\n",
        "print(type(new_raw_data))"
      ],
      "id": "a6727e62",
      "execution_count": 9,
      "outputs": [
        {
          "output_type": "stream",
          "name": "stdout",
          "text": [
            "<class 'list'>\n",
            "<class 'numpy.ndarray'>\n"
          ]
        }
      ]
    },
    {
      "cell_type": "markdown",
      "metadata": {
        "id": "3ce3ebdf"
      },
      "source": [
        "## The next step is to use the TimeseriesGenerator Object for the Sequence"
      ],
      "id": "3ce3ebdf"
    },
    {
      "cell_type": "code",
      "metadata": {
        "id": "b8d90c88"
      },
      "source": [
        "from tensorflow.keras.preprocessing.sequence import TimeseriesGenerator \n",
        "\n",
        "length = 36\n",
        "delay = 72 # 12hours equals to 6*12  data in this case \n",
        "sampling_rate = 3\n",
        "stride = 36 # 6 hours \n",
        "batch_size = 32 \n",
        "\n",
        "data = new_raw_data[:-(delay-1)]\n",
        "target = new_raw_data[(delay-1):] \n",
        "\n",
        "# Create Training Data \n",
        "train_gen = TimeseriesGenerator(data, target, \n",
        "                               length=length,\n",
        "                               sampling_rate=sampling_rate,\n",
        "                               stride=stride,\n",
        "                               start_index=0,\n",
        "                               end_index=100000,\n",
        "                               batch_size=batch_size)\n",
        "# Create Validation Data \n",
        "val_gen = TimeseriesGenerator(data, target, \n",
        "                               length=length,\n",
        "                               sampling_rate=sampling_rate,\n",
        "                               stride=stride,\n",
        "                               start_index=100001,\n",
        "                               end_index=130000,\n",
        "                               batch_size=batch_size)\n",
        "# Create Testing Data \n",
        "test_gen = TimeseriesGenerator(data, target, \n",
        "                               length=length,\n",
        "                               sampling_rate=sampling_rate,\n",
        "                               stride=stride,\n",
        "                               start_index=130001,\n",
        "                               end_index=None,\n",
        "                               batch_size=batch_size)"
      ],
      "id": "b8d90c88",
      "execution_count": 10,
      "outputs": []
    },
    {
      "cell_type": "code",
      "metadata": {
        "colab": {
          "base_uri": "https://localhost:8080/"
        },
        "id": "7c24dab0",
        "outputId": "43d9c91c-120f-4334-ac4d-3dbe05ffeced"
      },
      "source": [
        "print(train_gen[0][0].shape) \n",
        "# batch_size, time_series, feature_amount"
      ],
      "id": "7c24dab0",
      "execution_count": 11,
      "outputs": [
        {
          "output_type": "stream",
          "name": "stdout",
          "text": [
            "(32, 12, 1)\n"
          ]
        }
      ]
    },
    {
      "cell_type": "code",
      "metadata": {
        "colab": {
          "base_uri": "https://localhost:8080/"
        },
        "id": "232df603",
        "outputId": "f1339a67-1416-4201-e69e-cc1ffc305bdf"
      },
      "source": [
        "from tensorflow.keras.models import Sequential \n",
        "from tensorflow.keras import layers\n",
        "\n",
        "dense_model = Sequential([\n",
        "                    # time_series, feature_amount\n",
        "    layers.Flatten(input_shape=(12, 1)),\n",
        "    layers.Dense(10, activation='relu'),\n",
        "    layers.Dense(10, activation='relu'),\n",
        "    layers.Dense(1)\n",
        "])\n",
        "dense_model.summary()"
      ],
      "id": "232df603",
      "execution_count": 12,
      "outputs": [
        {
          "output_type": "stream",
          "name": "stdout",
          "text": [
            "Model: \"sequential\"\n",
            "_________________________________________________________________\n",
            "Layer (type)                 Output Shape              Param #   \n",
            "=================================================================\n",
            "flatten (Flatten)            (None, 12)                0         \n",
            "_________________________________________________________________\n",
            "dense (Dense)                (None, 10)                130       \n",
            "_________________________________________________________________\n",
            "dense_1 (Dense)              (None, 10)                110       \n",
            "_________________________________________________________________\n",
            "dense_2 (Dense)              (None, 1)                 11        \n",
            "=================================================================\n",
            "Total params: 251\n",
            "Trainable params: 251\n",
            "Non-trainable params: 0\n",
            "_________________________________________________________________\n"
          ]
        }
      ]
    },
    {
      "cell_type": "code",
      "metadata": {
        "id": "2eeab0ea"
      },
      "source": [
        "dense_model.compile(optimizer='rmsprop', loss='mse',\n",
        "                   metrics=['mae']) \n",
        "# Cause this is a regression problem, so use mse will have some good improvement "
      ],
      "id": "2eeab0ea",
      "execution_count": 13,
      "outputs": []
    },
    {
      "cell_type": "code",
      "metadata": {
        "colab": {
          "base_uri": "https://localhost:8080/"
        },
        "id": "8314599d",
        "outputId": "84c5dd2c-7120-4e82-871b-8e08bf04fa87"
      },
      "source": [
        "dense_history = dense_model.fit(train_gen,\n",
        "                               epochs=100,\n",
        "                               validation_data=val_gen)"
      ],
      "id": "8314599d",
      "execution_count": 14,
      "outputs": [
        {
          "output_type": "stream",
          "name": "stdout",
          "text": [
            "Epoch 1/100\n",
            "87/87 [==============================] - 1s 4ms/step - loss: 0.4340 - mae: 0.5316 - val_loss: 0.3655 - val_mae: 0.4988\n",
            "Epoch 2/100\n",
            "87/87 [==============================] - 0s 3ms/step - loss: 0.2964 - mae: 0.4382 - val_loss: 0.3443 - val_mae: 0.4751\n",
            "Epoch 3/100\n",
            "87/87 [==============================] - 0s 3ms/step - loss: 0.2830 - mae: 0.4272 - val_loss: 0.3340 - val_mae: 0.4721\n",
            "Epoch 4/100\n",
            "87/87 [==============================] - 0s 3ms/step - loss: 0.2734 - mae: 0.4194 - val_loss: 0.3291 - val_mae: 0.4533\n",
            "Epoch 5/100\n",
            "87/87 [==============================] - 0s 2ms/step - loss: 0.2664 - mae: 0.4123 - val_loss: 0.3230 - val_mae: 0.4469\n",
            "Epoch 6/100\n",
            "87/87 [==============================] - 0s 3ms/step - loss: 0.2603 - mae: 0.4077 - val_loss: 0.3106 - val_mae: 0.4427\n",
            "Epoch 7/100\n",
            "87/87 [==============================] - 0s 3ms/step - loss: 0.2537 - mae: 0.4009 - val_loss: 0.3116 - val_mae: 0.4425\n",
            "Epoch 8/100\n",
            "87/87 [==============================] - 0s 3ms/step - loss: 0.2520 - mae: 0.4003 - val_loss: 0.3009 - val_mae: 0.4373\n",
            "Epoch 9/100\n",
            "87/87 [==============================] - 0s 3ms/step - loss: 0.2445 - mae: 0.3921 - val_loss: 0.3137 - val_mae: 0.4437\n",
            "Epoch 10/100\n",
            "87/87 [==============================] - 0s 3ms/step - loss: 0.2454 - mae: 0.3922 - val_loss: 0.2986 - val_mae: 0.4337\n",
            "Epoch 11/100\n",
            "87/87 [==============================] - 0s 2ms/step - loss: 0.2434 - mae: 0.3911 - val_loss: 0.2982 - val_mae: 0.4332\n",
            "Epoch 12/100\n",
            "87/87 [==============================] - 0s 3ms/step - loss: 0.2396 - mae: 0.3869 - val_loss: 0.3145 - val_mae: 0.4439\n",
            "Epoch 13/100\n",
            "87/87 [==============================] - 0s 2ms/step - loss: 0.2368 - mae: 0.3833 - val_loss: 0.2862 - val_mae: 0.4274\n",
            "Epoch 14/100\n",
            "87/87 [==============================] - 0s 2ms/step - loss: 0.2376 - mae: 0.3853 - val_loss: 0.2940 - val_mae: 0.4271\n",
            "Epoch 15/100\n",
            "87/87 [==============================] - 0s 2ms/step - loss: 0.2342 - mae: 0.3817 - val_loss: 0.2940 - val_mae: 0.4287\n",
            "Epoch 16/100\n",
            "87/87 [==============================] - 0s 3ms/step - loss: 0.2337 - mae: 0.3815 - val_loss: 0.2942 - val_mae: 0.4273\n",
            "Epoch 17/100\n",
            "87/87 [==============================] - 0s 3ms/step - loss: 0.2330 - mae: 0.3807 - val_loss: 0.2874 - val_mae: 0.4220\n",
            "Epoch 18/100\n",
            "87/87 [==============================] - 0s 3ms/step - loss: 0.2303 - mae: 0.3783 - val_loss: 0.2838 - val_mae: 0.4209\n",
            "Epoch 19/100\n",
            "87/87 [==============================] - 0s 3ms/step - loss: 0.2291 - mae: 0.3767 - val_loss: 0.2842 - val_mae: 0.4186\n",
            "Epoch 20/100\n",
            "87/87 [==============================] - 0s 2ms/step - loss: 0.2275 - mae: 0.3756 - val_loss: 0.3143 - val_mae: 0.4453\n",
            "Epoch 21/100\n",
            "87/87 [==============================] - 0s 3ms/step - loss: 0.2270 - mae: 0.3742 - val_loss: 0.2838 - val_mae: 0.4179\n",
            "Epoch 22/100\n",
            "87/87 [==============================] - 0s 2ms/step - loss: 0.2268 - mae: 0.3739 - val_loss: 0.2835 - val_mae: 0.4170\n",
            "Epoch 23/100\n",
            "87/87 [==============================] - 0s 3ms/step - loss: 0.2258 - mae: 0.3739 - val_loss: 0.2979 - val_mae: 0.4310\n",
            "Epoch 24/100\n",
            "87/87 [==============================] - 0s 2ms/step - loss: 0.2242 - mae: 0.3716 - val_loss: 0.3375 - val_mae: 0.4646\n",
            "Epoch 25/100\n",
            "87/87 [==============================] - 0s 3ms/step - loss: 0.2247 - mae: 0.3700 - val_loss: 0.2866 - val_mae: 0.4238\n",
            "Epoch 26/100\n",
            "87/87 [==============================] - 0s 2ms/step - loss: 0.2224 - mae: 0.3699 - val_loss: 0.2998 - val_mae: 0.4374\n",
            "Epoch 27/100\n",
            "87/87 [==============================] - 0s 3ms/step - loss: 0.2238 - mae: 0.3702 - val_loss: 0.2957 - val_mae: 0.4294\n",
            "Epoch 28/100\n",
            "87/87 [==============================] - 0s 3ms/step - loss: 0.2230 - mae: 0.3695 - val_loss: 0.2762 - val_mae: 0.4117\n",
            "Epoch 29/100\n",
            "87/87 [==============================] - 0s 2ms/step - loss: 0.2181 - mae: 0.3640 - val_loss: 0.2839 - val_mae: 0.4153\n",
            "Epoch 30/100\n",
            "87/87 [==============================] - 0s 2ms/step - loss: 0.2225 - mae: 0.3679 - val_loss: 0.2823 - val_mae: 0.4161\n",
            "Epoch 31/100\n",
            "87/87 [==============================] - 0s 3ms/step - loss: 0.2208 - mae: 0.3662 - val_loss: 0.2789 - val_mae: 0.4145\n",
            "Epoch 32/100\n",
            "87/87 [==============================] - 0s 3ms/step - loss: 0.2189 - mae: 0.3649 - val_loss: 0.2747 - val_mae: 0.4112\n",
            "Epoch 33/100\n",
            "87/87 [==============================] - 0s 3ms/step - loss: 0.2182 - mae: 0.3618 - val_loss: 0.2734 - val_mae: 0.4095\n",
            "Epoch 34/100\n",
            "87/87 [==============================] - 0s 3ms/step - loss: 0.2194 - mae: 0.3663 - val_loss: 0.2758 - val_mae: 0.4107\n",
            "Epoch 35/100\n",
            "87/87 [==============================] - 0s 3ms/step - loss: 0.2195 - mae: 0.3643 - val_loss: 0.2838 - val_mae: 0.4147\n",
            "Epoch 36/100\n",
            "87/87 [==============================] - 0s 2ms/step - loss: 0.2169 - mae: 0.3615 - val_loss: 0.2872 - val_mae: 0.4254\n",
            "Epoch 37/100\n",
            "87/87 [==============================] - 0s 2ms/step - loss: 0.2171 - mae: 0.3638 - val_loss: 0.2699 - val_mae: 0.4075\n",
            "Epoch 38/100\n",
            "87/87 [==============================] - 0s 2ms/step - loss: 0.2165 - mae: 0.3605 - val_loss: 0.2729 - val_mae: 0.4116\n",
            "Epoch 39/100\n",
            "87/87 [==============================] - 0s 2ms/step - loss: 0.2162 - mae: 0.3599 - val_loss: 0.2692 - val_mae: 0.4054\n",
            "Epoch 40/100\n",
            "87/87 [==============================] - 0s 3ms/step - loss: 0.2110 - mae: 0.3565 - val_loss: 0.2767 - val_mae: 0.4100\n",
            "Epoch 41/100\n",
            "87/87 [==============================] - 0s 3ms/step - loss: 0.2146 - mae: 0.3584 - val_loss: 0.2772 - val_mae: 0.4147\n",
            "Epoch 42/100\n",
            "87/87 [==============================] - 0s 3ms/step - loss: 0.2156 - mae: 0.3606 - val_loss: 0.3110 - val_mae: 0.4436\n",
            "Epoch 43/100\n",
            "87/87 [==============================] - 0s 3ms/step - loss: 0.2130 - mae: 0.3588 - val_loss: 0.2772 - val_mae: 0.4088\n",
            "Epoch 44/100\n",
            "87/87 [==============================] - 0s 3ms/step - loss: 0.2138 - mae: 0.3580 - val_loss: 0.2722 - val_mae: 0.4076\n",
            "Epoch 45/100\n",
            "87/87 [==============================] - 0s 3ms/step - loss: 0.2130 - mae: 0.3572 - val_loss: 0.2767 - val_mae: 0.4067\n",
            "Epoch 46/100\n",
            "87/87 [==============================] - 0s 3ms/step - loss: 0.2118 - mae: 0.3551 - val_loss: 0.2704 - val_mae: 0.4004\n",
            "Epoch 47/100\n",
            "87/87 [==============================] - 0s 2ms/step - loss: 0.2102 - mae: 0.3546 - val_loss: 0.2692 - val_mae: 0.4071\n",
            "Epoch 48/100\n",
            "87/87 [==============================] - 0s 3ms/step - loss: 0.2107 - mae: 0.3558 - val_loss: 0.2831 - val_mae: 0.4082\n",
            "Epoch 49/100\n",
            "87/87 [==============================] - 0s 2ms/step - loss: 0.2117 - mae: 0.3558 - val_loss: 0.2824 - val_mae: 0.4091\n",
            "Epoch 50/100\n",
            "87/87 [==============================] - 0s 3ms/step - loss: 0.2080 - mae: 0.3510 - val_loss: 0.2712 - val_mae: 0.3993\n",
            "Epoch 51/100\n",
            "87/87 [==============================] - 0s 3ms/step - loss: 0.2090 - mae: 0.3520 - val_loss: 0.2813 - val_mae: 0.4129\n",
            "Epoch 52/100\n",
            "87/87 [==============================] - 0s 3ms/step - loss: 0.2071 - mae: 0.3510 - val_loss: 0.2664 - val_mae: 0.3973\n",
            "Epoch 53/100\n",
            "87/87 [==============================] - 0s 3ms/step - loss: 0.2094 - mae: 0.3540 - val_loss: 0.2751 - val_mae: 0.4125\n",
            "Epoch 54/100\n",
            "87/87 [==============================] - 0s 3ms/step - loss: 0.2079 - mae: 0.3506 - val_loss: 0.2652 - val_mae: 0.4024\n",
            "Epoch 55/100\n",
            "87/87 [==============================] - 0s 3ms/step - loss: 0.2087 - mae: 0.3521 - val_loss: 0.2772 - val_mae: 0.4015\n",
            "Epoch 56/100\n",
            "87/87 [==============================] - 0s 3ms/step - loss: 0.2091 - mae: 0.3522 - val_loss: 0.2613 - val_mae: 0.3944\n",
            "Epoch 57/100\n",
            "87/87 [==============================] - 0s 3ms/step - loss: 0.2068 - mae: 0.3519 - val_loss: 0.2711 - val_mae: 0.4070\n",
            "Epoch 58/100\n",
            "87/87 [==============================] - 0s 3ms/step - loss: 0.2063 - mae: 0.3501 - val_loss: 0.2871 - val_mae: 0.4185\n",
            "Epoch 59/100\n",
            "87/87 [==============================] - 0s 3ms/step - loss: 0.2079 - mae: 0.3502 - val_loss: 0.2787 - val_mae: 0.4163\n",
            "Epoch 60/100\n",
            "87/87 [==============================] - 0s 3ms/step - loss: 0.2069 - mae: 0.3495 - val_loss: 0.2687 - val_mae: 0.3982\n",
            "Epoch 61/100\n",
            "87/87 [==============================] - 0s 3ms/step - loss: 0.2065 - mae: 0.3498 - val_loss: 0.2708 - val_mae: 0.4019\n",
            "Epoch 62/100\n",
            "87/87 [==============================] - 0s 3ms/step - loss: 0.2064 - mae: 0.3500 - val_loss: 0.2660 - val_mae: 0.3966\n",
            "Epoch 63/100\n",
            "87/87 [==============================] - 0s 3ms/step - loss: 0.2040 - mae: 0.3466 - val_loss: 0.2771 - val_mae: 0.4019\n",
            "Epoch 64/100\n",
            "87/87 [==============================] - 0s 2ms/step - loss: 0.2049 - mae: 0.3473 - val_loss: 0.2672 - val_mae: 0.3944\n",
            "Epoch 65/100\n",
            "87/87 [==============================] - 0s 3ms/step - loss: 0.2044 - mae: 0.3470 - val_loss: 0.2610 - val_mae: 0.3952\n",
            "Epoch 66/100\n",
            "87/87 [==============================] - 0s 3ms/step - loss: 0.2036 - mae: 0.3459 - val_loss: 0.2910 - val_mae: 0.4205\n",
            "Epoch 67/100\n",
            "87/87 [==============================] - 0s 2ms/step - loss: 0.2062 - mae: 0.3504 - val_loss: 0.2613 - val_mae: 0.3945\n",
            "Epoch 68/100\n",
            "87/87 [==============================] - 0s 3ms/step - loss: 0.2042 - mae: 0.3475 - val_loss: 0.2660 - val_mae: 0.3917\n",
            "Epoch 69/100\n",
            "87/87 [==============================] - 0s 3ms/step - loss: 0.2043 - mae: 0.3463 - val_loss: 0.2626 - val_mae: 0.3903\n",
            "Epoch 70/100\n",
            "87/87 [==============================] - 0s 2ms/step - loss: 0.2041 - mae: 0.3475 - val_loss: 0.2663 - val_mae: 0.3959\n",
            "Epoch 71/100\n",
            "87/87 [==============================] - 0s 3ms/step - loss: 0.2039 - mae: 0.3463 - val_loss: 0.2763 - val_mae: 0.4054\n",
            "Epoch 72/100\n",
            "87/87 [==============================] - 0s 3ms/step - loss: 0.2025 - mae: 0.3448 - val_loss: 0.2861 - val_mae: 0.4161\n",
            "Epoch 73/100\n",
            "87/87 [==============================] - 0s 2ms/step - loss: 0.2033 - mae: 0.3446 - val_loss: 0.2885 - val_mae: 0.4255\n",
            "Epoch 74/100\n",
            "87/87 [==============================] - 0s 2ms/step - loss: 0.2043 - mae: 0.3478 - val_loss: 0.2691 - val_mae: 0.3935\n",
            "Epoch 75/100\n",
            "87/87 [==============================] - 0s 2ms/step - loss: 0.2032 - mae: 0.3464 - val_loss: 0.2658 - val_mae: 0.3894\n",
            "Epoch 76/100\n",
            "87/87 [==============================] - 0s 3ms/step - loss: 0.2007 - mae: 0.3437 - val_loss: 0.2604 - val_mae: 0.3923\n",
            "Epoch 77/100\n",
            "87/87 [==============================] - 0s 3ms/step - loss: 0.2014 - mae: 0.3449 - val_loss: 0.2654 - val_mae: 0.3941\n",
            "Epoch 78/100\n",
            "87/87 [==============================] - 0s 3ms/step - loss: 0.2007 - mae: 0.3426 - val_loss: 0.2814 - val_mae: 0.4055\n",
            "Epoch 79/100\n",
            "87/87 [==============================] - 0s 2ms/step - loss: 0.2017 - mae: 0.3428 - val_loss: 0.2704 - val_mae: 0.4007\n",
            "Epoch 80/100\n",
            "87/87 [==============================] - 0s 3ms/step - loss: 0.2021 - mae: 0.3438 - val_loss: 0.2599 - val_mae: 0.3862\n",
            "Epoch 81/100\n",
            "87/87 [==============================] - 0s 2ms/step - loss: 0.1998 - mae: 0.3414 - val_loss: 0.2659 - val_mae: 0.4051\n",
            "Epoch 82/100\n",
            "87/87 [==============================] - 0s 2ms/step - loss: 0.2020 - mae: 0.3447 - val_loss: 0.2625 - val_mae: 0.3955\n",
            "Epoch 83/100\n",
            "87/87 [==============================] - 0s 3ms/step - loss: 0.2016 - mae: 0.3438 - val_loss: 0.2724 - val_mae: 0.3986\n",
            "Epoch 84/100\n",
            "87/87 [==============================] - 0s 2ms/step - loss: 0.2009 - mae: 0.3434 - val_loss: 0.2633 - val_mae: 0.3871\n",
            "Epoch 85/100\n",
            "87/87 [==============================] - 0s 2ms/step - loss: 0.2013 - mae: 0.3421 - val_loss: 0.2675 - val_mae: 0.3934\n",
            "Epoch 86/100\n",
            "87/87 [==============================] - 0s 2ms/step - loss: 0.2006 - mae: 0.3417 - val_loss: 0.2882 - val_mae: 0.4218\n",
            "Epoch 87/100\n",
            "87/87 [==============================] - 0s 3ms/step - loss: 0.2010 - mae: 0.3447 - val_loss: 0.2580 - val_mae: 0.3886\n",
            "Epoch 88/100\n",
            "87/87 [==============================] - 0s 3ms/step - loss: 0.2000 - mae: 0.3417 - val_loss: 0.2611 - val_mae: 0.3917\n",
            "Epoch 89/100\n",
            "87/87 [==============================] - 0s 2ms/step - loss: 0.2002 - mae: 0.3414 - val_loss: 0.2830 - val_mae: 0.4092\n",
            "Epoch 90/100\n",
            "87/87 [==============================] - 0s 2ms/step - loss: 0.1999 - mae: 0.3401 - val_loss: 0.2549 - val_mae: 0.3852\n",
            "Epoch 91/100\n",
            "87/87 [==============================] - 0s 3ms/step - loss: 0.2017 - mae: 0.3442 - val_loss: 0.2599 - val_mae: 0.3865\n",
            "Epoch 92/100\n",
            "87/87 [==============================] - 0s 3ms/step - loss: 0.2013 - mae: 0.3436 - val_loss: 0.2571 - val_mae: 0.3880\n",
            "Epoch 93/100\n",
            "87/87 [==============================] - 0s 3ms/step - loss: 0.2012 - mae: 0.3418 - val_loss: 0.2582 - val_mae: 0.3887\n",
            "Epoch 94/100\n",
            "87/87 [==============================] - 0s 3ms/step - loss: 0.1996 - mae: 0.3411 - val_loss: 0.2617 - val_mae: 0.3976\n",
            "Epoch 95/100\n",
            "87/87 [==============================] - 0s 3ms/step - loss: 0.1999 - mae: 0.3410 - val_loss: 0.2757 - val_mae: 0.4050\n",
            "Epoch 96/100\n",
            "87/87 [==============================] - 0s 3ms/step - loss: 0.1995 - mae: 0.3426 - val_loss: 0.2608 - val_mae: 0.3890\n",
            "Epoch 97/100\n",
            "87/87 [==============================] - 0s 3ms/step - loss: 0.1958 - mae: 0.3392 - val_loss: 0.2618 - val_mae: 0.3964\n",
            "Epoch 98/100\n",
            "87/87 [==============================] - 0s 3ms/step - loss: 0.2020 - mae: 0.3458 - val_loss: 0.2762 - val_mae: 0.3962\n",
            "Epoch 99/100\n",
            "87/87 [==============================] - 0s 3ms/step - loss: 0.2009 - mae: 0.3417 - val_loss: 0.2547 - val_mae: 0.3849\n",
            "Epoch 100/100\n",
            "87/87 [==============================] - 0s 3ms/step - loss: 0.1979 - mae: 0.3397 - val_loss: 0.2543 - val_mae: 0.3844\n"
          ]
        }
      ]
    },
    {
      "cell_type": "code",
      "metadata": {
        "colab": {
          "base_uri": "https://localhost:8080/"
        },
        "id": "09e38bc8",
        "outputId": "5a603be6-7058-4fab-cf9f-da80675d10a4"
      },
      "source": [
        "print(\"The average temperature error:\", dense_history.history['val_mae'][-1]*std)"
      ],
      "id": "09e38bc8",
      "execution_count": 16,
      "outputs": [
        {
          "output_type": "stream",
          "name": "stdout",
          "text": [
            "The average temperature error: 2.382736596989042\n"
          ]
        }
      ]
    },
    {
      "cell_type": "code",
      "metadata": {
        "colab": {
          "base_uri": "https://localhost:8080/",
          "height": 265
        },
        "id": "f339b5a3",
        "outputId": "82674887-4735-46fd-d60c-b3f74090af85"
      },
      "source": [
        "plt.plot(dense_history.history['loss'], label='training_loss')\n",
        "plt.plot(dense_history.history['val_loss'], label='validation loss')\n",
        "plt.legend()\n",
        "plt.show()"
      ],
      "id": "f339b5a3",
      "execution_count": 17,
      "outputs": [
        {
          "output_type": "display_data",
          "data": {
            "image/png": "[encoded data removed]",
            "text/plain": [
              "<Figure size 432x288 with 1 Axes>"
            ]
          },
          "metadata": {
            "needs_background": "light"
          }
        }
      ]
    },
    {
      "cell_type": "markdown",
      "metadata": {
        "id": "2snONcg_g0lH"
      },
      "source": [
        "## Test 1: use RNN to predict Future Temperature"
      ],
      "id": "2snONcg_g0lH"
    },
    {
      "cell_type": "code",
      "metadata": {
        "colab": {
          "base_uri": "https://localhost:8080/"
        },
        "id": "JkhUsTBWgzUO",
        "outputId": "4fdd72a8-9d23-4af1-ebd4-67597d876984"
      },
      "source": [
        "rnn_model = Sequential([\n",
        "    layers.SimpleRNN(10, input_shape=(12, 1)),\n",
        "    layers.Dense(10, activation='relu'),\n",
        "    layers.Dense(1)  \n",
        "])\n",
        "rnn_model.summary()"
      ],
      "id": "JkhUsTBWgzUO",
      "execution_count": 18,
      "outputs": [
        {
          "output_type": "stream",
          "name": "stdout",
          "text": [
            "Model: \"sequential_1\"\n",
            "_________________________________________________________________\n",
            "Layer (type)                 Output Shape              Param #   \n",
            "=================================================================\n",
            "simple_rnn (SimpleRNN)       (None, 10)                120       \n",
            "_________________________________________________________________\n",
            "dense_3 (Dense)              (None, 10)                110       \n",
            "_________________________________________________________________\n",
            "dense_4 (Dense)              (None, 1)                 11        \n",
            "=================================================================\n",
            "Total params: 241\n",
            "Trainable params: 241\n",
            "Non-trainable params: 0\n",
            "_________________________________________________________________\n"
          ]
        }
      ]
    },
    {
      "cell_type": "code",
      "metadata": {
        "colab": {
          "base_uri": "https://localhost:8080/"
        },
        "id": "KfYERqzGgzWQ",
        "outputId": "9fc8d4d7-52b9-4e63-ec7a-10e034d7d93a"
      },
      "source": [
        "rnn_model.compile(optimizer='rmsprop', loss='mse', metrics=['mae'])\n",
        "rnn_history = rnn_model.fit(train_gen, epochs=100, validation_data=val_gen)"
      ],
      "id": "KfYERqzGgzWQ",
      "execution_count": 19,
      "outputs": [
        {
          "output_type": "stream",
          "name": "stdout",
          "text": [
            "Epoch 1/100\n",
            "87/87 [==============================] - 2s 7ms/step - loss: 0.6633 - mae: 0.6609 - val_loss: 0.4738 - val_mae: 0.5596\n",
            "Epoch 2/100\n",
            "87/87 [==============================] - 0s 5ms/step - loss: 0.4188 - mae: 0.5158 - val_loss: 0.3658 - val_mae: 0.4833\n",
            "Epoch 3/100\n",
            "87/87 [==============================] - 0s 4ms/step - loss: 0.3510 - mae: 0.4717 - val_loss: 0.3482 - val_mae: 0.4654\n",
            "Epoch 4/100\n",
            "87/87 [==============================] - 0s 4ms/step - loss: 0.3261 - mae: 0.4556 - val_loss: 0.3412 - val_mae: 0.4625\n",
            "Epoch 5/100\n",
            "87/87 [==============================] - 0s 4ms/step - loss: 0.3086 - mae: 0.4405 - val_loss: 0.3344 - val_mae: 0.4589\n",
            "Epoch 6/100\n",
            "87/87 [==============================] - 0s 5ms/step - loss: 0.2947 - mae: 0.4316 - val_loss: 0.3279 - val_mae: 0.4482\n",
            "Epoch 7/100\n",
            "87/87 [==============================] - 0s 5ms/step - loss: 0.2804 - mae: 0.4166 - val_loss: 0.3200 - val_mae: 0.4458\n",
            "Epoch 8/100\n",
            "87/87 [==============================] - 0s 5ms/step - loss: 0.2708 - mae: 0.4110 - val_loss: 0.3144 - val_mae: 0.4378\n",
            "Epoch 9/100\n",
            "87/87 [==============================] - 0s 5ms/step - loss: 0.2621 - mae: 0.4021 - val_loss: 0.3047 - val_mae: 0.4279\n",
            "Epoch 10/100\n",
            "87/87 [==============================] - 0s 5ms/step - loss: 0.2562 - mae: 0.3988 - val_loss: 0.3076 - val_mae: 0.4287\n",
            "Epoch 11/100\n",
            "87/87 [==============================] - 0s 5ms/step - loss: 0.2525 - mae: 0.3935 - val_loss: 0.2967 - val_mae: 0.4213\n",
            "Epoch 12/100\n",
            "87/87 [==============================] - 0s 4ms/step - loss: 0.2493 - mae: 0.3912 - val_loss: 0.2988 - val_mae: 0.4261\n",
            "Epoch 13/100\n",
            "87/87 [==============================] - 0s 4ms/step - loss: 0.2475 - mae: 0.3894 - val_loss: 0.2890 - val_mae: 0.4099\n",
            "Epoch 14/100\n",
            "87/87 [==============================] - 0s 5ms/step - loss: 0.2458 - mae: 0.3877 - val_loss: 0.2892 - val_mae: 0.4084\n",
            "Epoch 15/100\n",
            "87/87 [==============================] - 0s 5ms/step - loss: 0.2398 - mae: 0.3818 - val_loss: 0.2982 - val_mae: 0.4278\n",
            "Epoch 16/100\n",
            "87/87 [==============================] - 0s 4ms/step - loss: 0.2435 - mae: 0.3853 - val_loss: 0.2870 - val_mae: 0.4109\n",
            "Epoch 17/100\n",
            "87/87 [==============================] - 0s 4ms/step - loss: 0.2416 - mae: 0.3837 - val_loss: 0.2822 - val_mae: 0.4085\n",
            "Epoch 18/100\n",
            "87/87 [==============================] - 0s 4ms/step - loss: 0.2397 - mae: 0.3813 - val_loss: 0.2838 - val_mae: 0.4139\n",
            "Epoch 19/100\n",
            "87/87 [==============================] - 0s 4ms/step - loss: 0.2387 - mae: 0.3813 - val_loss: 0.2820 - val_mae: 0.4053\n",
            "Epoch 20/100\n",
            "87/87 [==============================] - 0s 4ms/step - loss: 0.2370 - mae: 0.3794 - val_loss: 0.2788 - val_mae: 0.4055\n",
            "Epoch 21/100\n",
            "87/87 [==============================] - 0s 4ms/step - loss: 0.2344 - mae: 0.3774 - val_loss: 0.2850 - val_mae: 0.4143\n",
            "Epoch 22/100\n",
            "87/87 [==============================] - 0s 5ms/step - loss: 0.2334 - mae: 0.3766 - val_loss: 0.2790 - val_mae: 0.4032\n",
            "Epoch 23/100\n",
            "87/87 [==============================] - 0s 5ms/step - loss: 0.2326 - mae: 0.3757 - val_loss: 0.2733 - val_mae: 0.4008\n",
            "Epoch 24/100\n",
            "87/87 [==============================] - 0s 5ms/step - loss: 0.2291 - mae: 0.3737 - val_loss: 0.2845 - val_mae: 0.4128\n",
            "Epoch 25/100\n",
            "87/87 [==============================] - 0s 5ms/step - loss: 0.2280 - mae: 0.3722 - val_loss: 0.2863 - val_mae: 0.4164\n",
            "Epoch 26/100\n",
            "87/87 [==============================] - 0s 4ms/step - loss: 0.2279 - mae: 0.3713 - val_loss: 0.2709 - val_mae: 0.3993\n",
            "Epoch 27/100\n",
            "87/87 [==============================] - 0s 5ms/step - loss: 0.2246 - mae: 0.3698 - val_loss: 0.2754 - val_mae: 0.4023\n",
            "Epoch 28/100\n",
            "87/87 [==============================] - 0s 5ms/step - loss: 0.2220 - mae: 0.3658 - val_loss: 0.2777 - val_mae: 0.4065\n",
            "Epoch 29/100\n",
            "87/87 [==============================] - 0s 4ms/step - loss: 0.2206 - mae: 0.3658 - val_loss: 0.2715 - val_mae: 0.4040\n",
            "Epoch 30/100\n",
            "87/87 [==============================] - 0s 5ms/step - loss: 0.2200 - mae: 0.3659 - val_loss: 0.2686 - val_mae: 0.4056\n",
            "Epoch 31/100\n",
            "87/87 [==============================] - 0s 5ms/step - loss: 0.2187 - mae: 0.3646 - val_loss: 0.2663 - val_mae: 0.4017\n",
            "Epoch 32/100\n",
            "87/87 [==============================] - 0s 5ms/step - loss: 0.2171 - mae: 0.3619 - val_loss: 0.2761 - val_mae: 0.4119\n",
            "Epoch 33/100\n",
            "87/87 [==============================] - 0s 4ms/step - loss: 0.2157 - mae: 0.3617 - val_loss: 0.2601 - val_mae: 0.3889\n",
            "Epoch 34/100\n",
            "87/87 [==============================] - 0s 4ms/step - loss: 0.2157 - mae: 0.3616 - val_loss: 0.2597 - val_mae: 0.3880\n",
            "Epoch 35/100\n",
            "87/87 [==============================] - 0s 4ms/step - loss: 0.2155 - mae: 0.3620 - val_loss: 0.2645 - val_mae: 0.3908\n",
            "Epoch 36/100\n",
            "87/87 [==============================] - 0s 5ms/step - loss: 0.2115 - mae: 0.3572 - val_loss: 0.2766 - val_mae: 0.4111\n",
            "Epoch 37/100\n",
            "87/87 [==============================] - 0s 5ms/step - loss: 0.2139 - mae: 0.3599 - val_loss: 0.2612 - val_mae: 0.3913\n",
            "Epoch 38/100\n",
            "87/87 [==============================] - 0s 4ms/step - loss: 0.2123 - mae: 0.3582 - val_loss: 0.2684 - val_mae: 0.4031\n",
            "Epoch 39/100\n",
            "87/87 [==============================] - 0s 5ms/step - loss: 0.2128 - mae: 0.3591 - val_loss: 0.2614 - val_mae: 0.3898\n",
            "Epoch 40/100\n",
            "87/87 [==============================] - 0s 4ms/step - loss: 0.2103 - mae: 0.3554 - val_loss: 0.2572 - val_mae: 0.3894\n",
            "Epoch 41/100\n",
            "87/87 [==============================] - 0s 4ms/step - loss: 0.2105 - mae: 0.3561 - val_loss: 0.2566 - val_mae: 0.3900\n",
            "Epoch 42/100\n",
            "87/87 [==============================] - 0s 5ms/step - loss: 0.2104 - mae: 0.3553 - val_loss: 0.2619 - val_mae: 0.3936\n",
            "Epoch 43/100\n",
            "87/87 [==============================] - 0s 4ms/step - loss: 0.2097 - mae: 0.3556 - val_loss: 0.2723 - val_mae: 0.4079\n",
            "Epoch 44/100\n",
            "87/87 [==============================] - 0s 4ms/step - loss: 0.2090 - mae: 0.3545 - val_loss: 0.2592 - val_mae: 0.3933\n",
            "Epoch 45/100\n",
            "87/87 [==============================] - 0s 5ms/step - loss: 0.2084 - mae: 0.3542 - val_loss: 0.2621 - val_mae: 0.3927\n",
            "Epoch 46/100\n",
            "87/87 [==============================] - 0s 5ms/step - loss: 0.2076 - mae: 0.3517 - val_loss: 0.2701 - val_mae: 0.4093\n",
            "Epoch 47/100\n",
            "87/87 [==============================] - 0s 5ms/step - loss: 0.2098 - mae: 0.3549 - val_loss: 0.2702 - val_mae: 0.4009\n",
            "Epoch 48/100\n",
            "87/87 [==============================] - 0s 4ms/step - loss: 0.2085 - mae: 0.3518 - val_loss: 0.2584 - val_mae: 0.3849\n",
            "Epoch 49/100\n",
            "87/87 [==============================] - 0s 4ms/step - loss: 0.2086 - mae: 0.3531 - val_loss: 0.2645 - val_mae: 0.3929\n",
            "Epoch 50/100\n",
            "87/87 [==============================] - 0s 4ms/step - loss: 0.2086 - mae: 0.3523 - val_loss: 0.2576 - val_mae: 0.3885\n",
            "Epoch 51/100\n",
            "87/87 [==============================] - 0s 5ms/step - loss: 0.2080 - mae: 0.3536 - val_loss: 0.2656 - val_mae: 0.3987\n",
            "Epoch 52/100\n",
            "87/87 [==============================] - 0s 5ms/step - loss: 0.2089 - mae: 0.3539 - val_loss: 0.2559 - val_mae: 0.3873\n",
            "Epoch 53/100\n",
            "87/87 [==============================] - 0s 5ms/step - loss: 0.2075 - mae: 0.3522 - val_loss: 0.2638 - val_mae: 0.3969\n",
            "Epoch 54/100\n",
            "87/87 [==============================] - 0s 4ms/step - loss: 0.2058 - mae: 0.3481 - val_loss: 0.2538 - val_mae: 0.3867\n",
            "Epoch 55/100\n",
            "87/87 [==============================] - 0s 5ms/step - loss: 0.2064 - mae: 0.3518 - val_loss: 0.2594 - val_mae: 0.3820\n",
            "Epoch 56/100\n",
            "87/87 [==============================] - 0s 5ms/step - loss: 0.2070 - mae: 0.3511 - val_loss: 0.2585 - val_mae: 0.3862\n",
            "Epoch 57/100\n",
            "87/87 [==============================] - 0s 5ms/step - loss: 0.2056 - mae: 0.3494 - val_loss: 0.2668 - val_mae: 0.3953\n",
            "Epoch 58/100\n",
            "87/87 [==============================] - 0s 4ms/step - loss: 0.2054 - mae: 0.3500 - val_loss: 0.2575 - val_mae: 0.3868\n",
            "Epoch 59/100\n",
            "87/87 [==============================] - 0s 4ms/step - loss: 0.2057 - mae: 0.3493 - val_loss: 0.2622 - val_mae: 0.3887\n",
            "Epoch 60/100\n",
            "87/87 [==============================] - 0s 4ms/step - loss: 0.2056 - mae: 0.3489 - val_loss: 0.2808 - val_mae: 0.4143\n",
            "Epoch 61/100\n",
            "87/87 [==============================] - 0s 4ms/step - loss: 0.2066 - mae: 0.3507 - val_loss: 0.2588 - val_mae: 0.3926\n",
            "Epoch 62/100\n",
            "87/87 [==============================] - 0s 4ms/step - loss: 0.2065 - mae: 0.3512 - val_loss: 0.2594 - val_mae: 0.3883\n",
            "Epoch 63/100\n",
            "87/87 [==============================] - 0s 5ms/step - loss: 0.2070 - mae: 0.3506 - val_loss: 0.2585 - val_mae: 0.3811\n",
            "Epoch 64/100\n",
            "87/87 [==============================] - 0s 5ms/step - loss: 0.2057 - mae: 0.3495 - val_loss: 0.2587 - val_mae: 0.3831\n",
            "Epoch 65/100\n",
            "87/87 [==============================] - 0s 5ms/step - loss: 0.2060 - mae: 0.3511 - val_loss: 0.2605 - val_mae: 0.3900\n",
            "Epoch 66/100\n",
            "87/87 [==============================] - 0s 5ms/step - loss: 0.2051 - mae: 0.3490 - val_loss: 0.2578 - val_mae: 0.3850\n",
            "Epoch 67/100\n",
            "87/87 [==============================] - 0s 5ms/step - loss: 0.2032 - mae: 0.3482 - val_loss: 0.2643 - val_mae: 0.3812\n",
            "Epoch 68/100\n",
            "87/87 [==============================] - 0s 4ms/step - loss: 0.2053 - mae: 0.3485 - val_loss: 0.2543 - val_mae: 0.3835\n",
            "Epoch 69/100\n",
            "87/87 [==============================] - 0s 5ms/step - loss: 0.2049 - mae: 0.3484 - val_loss: 0.2554 - val_mae: 0.3881\n",
            "Epoch 70/100\n",
            "87/87 [==============================] - 0s 5ms/step - loss: 0.2038 - mae: 0.3478 - val_loss: 0.2562 - val_mae: 0.3794\n",
            "Epoch 71/100\n",
            "87/87 [==============================] - 0s 5ms/step - loss: 0.2015 - mae: 0.3456 - val_loss: 0.2618 - val_mae: 0.3995\n",
            "Epoch 72/100\n",
            "87/87 [==============================] - 0s 5ms/step - loss: 0.2045 - mae: 0.3495 - val_loss: 0.2589 - val_mae: 0.3835\n",
            "Epoch 73/100\n",
            "87/87 [==============================] - 0s 5ms/step - loss: 0.2051 - mae: 0.3490 - val_loss: 0.2664 - val_mae: 0.3941\n",
            "Epoch 74/100\n",
            "87/87 [==============================] - 0s 5ms/step - loss: 0.2035 - mae: 0.3460 - val_loss: 0.2551 - val_mae: 0.3861\n",
            "Epoch 75/100\n",
            "87/87 [==============================] - 0s 5ms/step - loss: 0.2051 - mae: 0.3497 - val_loss: 0.2586 - val_mae: 0.3855\n",
            "Epoch 76/100\n",
            "87/87 [==============================] - 0s 5ms/step - loss: 0.2029 - mae: 0.3472 - val_loss: 0.2543 - val_mae: 0.3830\n",
            "Epoch 77/100\n",
            "87/87 [==============================] - 0s 5ms/step - loss: 0.2031 - mae: 0.3481 - val_loss: 0.2579 - val_mae: 0.3810\n",
            "Epoch 78/100\n",
            "87/87 [==============================] - 0s 5ms/step - loss: 0.2030 - mae: 0.3462 - val_loss: 0.2607 - val_mae: 0.3950\n",
            "Epoch 79/100\n",
            "87/87 [==============================] - 0s 5ms/step - loss: 0.2039 - mae: 0.3467 - val_loss: 0.2573 - val_mae: 0.3851\n",
            "Epoch 80/100\n",
            "87/87 [==============================] - 0s 5ms/step - loss: 0.2018 - mae: 0.3454 - val_loss: 0.2531 - val_mae: 0.3823\n",
            "Epoch 81/100\n",
            "87/87 [==============================] - 0s 5ms/step - loss: 0.2000 - mae: 0.3450 - val_loss: 0.2627 - val_mae: 0.3942\n",
            "Epoch 82/100\n",
            "87/87 [==============================] - 0s 5ms/step - loss: 0.1999 - mae: 0.3426 - val_loss: 0.2574 - val_mae: 0.3851\n",
            "Epoch 83/100\n",
            "87/87 [==============================] - 0s 5ms/step - loss: 0.2009 - mae: 0.3451 - val_loss: 0.2626 - val_mae: 0.3881\n",
            "Epoch 84/100\n",
            "87/87 [==============================] - 0s 5ms/step - loss: 0.2016 - mae: 0.3432 - val_loss: 0.2576 - val_mae: 0.3881\n",
            "Epoch 85/100\n",
            "87/87 [==============================] - 0s 5ms/step - loss: 0.2011 - mae: 0.3440 - val_loss: 0.2574 - val_mae: 0.3756\n",
            "Epoch 86/100\n",
            "87/87 [==============================] - 0s 4ms/step - loss: 0.2008 - mae: 0.3432 - val_loss: 0.2614 - val_mae: 0.3928\n",
            "Epoch 87/100\n",
            "87/87 [==============================] - 0s 5ms/step - loss: 0.1999 - mae: 0.3436 - val_loss: 0.2524 - val_mae: 0.3806\n",
            "Epoch 88/100\n",
            "87/87 [==============================] - 0s 5ms/step - loss: 0.2004 - mae: 0.3443 - val_loss: 0.2732 - val_mae: 0.4028\n",
            "Epoch 89/100\n",
            "87/87 [==============================] - 0s 4ms/step - loss: 0.1985 - mae: 0.3415 - val_loss: 0.2714 - val_mae: 0.4039\n",
            "Epoch 90/100\n",
            "87/87 [==============================] - 0s 5ms/step - loss: 0.1985 - mae: 0.3418 - val_loss: 0.2517 - val_mae: 0.3736\n",
            "Epoch 91/100\n",
            "87/87 [==============================] - 0s 5ms/step - loss: 0.2005 - mae: 0.3431 - val_loss: 0.2608 - val_mae: 0.3902\n",
            "Epoch 92/100\n",
            "87/87 [==============================] - 0s 5ms/step - loss: 0.1984 - mae: 0.3425 - val_loss: 0.2571 - val_mae: 0.3785\n",
            "Epoch 93/100\n",
            "87/87 [==============================] - 0s 4ms/step - loss: 0.1986 - mae: 0.3412 - val_loss: 0.2678 - val_mae: 0.3941\n",
            "Epoch 94/100\n",
            "87/87 [==============================] - 0s 4ms/step - loss: 0.1985 - mae: 0.3416 - val_loss: 0.2525 - val_mae: 0.3848\n",
            "Epoch 95/100\n",
            "87/87 [==============================] - 0s 5ms/step - loss: 0.2002 - mae: 0.3427 - val_loss: 0.2559 - val_mae: 0.3832\n",
            "Epoch 96/100\n",
            "87/87 [==============================] - 0s 4ms/step - loss: 0.1994 - mae: 0.3411 - val_loss: 0.2541 - val_mae: 0.3822\n",
            "Epoch 97/100\n",
            "87/87 [==============================] - 0s 5ms/step - loss: 0.1983 - mae: 0.3407 - val_loss: 0.2538 - val_mae: 0.3859\n",
            "Epoch 98/100\n",
            "87/87 [==============================] - 0s 4ms/step - loss: 0.1981 - mae: 0.3420 - val_loss: 0.2713 - val_mae: 0.4000\n",
            "Epoch 99/100\n",
            "87/87 [==============================] - 0s 5ms/step - loss: 0.1980 - mae: 0.3409 - val_loss: 0.2547 - val_mae: 0.3746\n",
            "Epoch 100/100\n",
            "87/87 [==============================] - 0s 5ms/step - loss: 0.1967 - mae: 0.3406 - val_loss: 0.2517 - val_mae: 0.3748\n"
          ]
        }
      ]
    },
    {
      "cell_type": "code",
      "metadata": {
        "colab": {
          "base_uri": "https://localhost:8080/"
        },
        "id": "nzqutEJOhYMH",
        "outputId": "660f8b4e-7f0e-4461-fc79-444f0bf27199"
      },
      "source": [
        "print(\"The average temperature error:\", rnn_history.history['val_mae'][-1]*std)"
      ],
      "id": "nzqutEJOhYMH",
      "execution_count": 20,
      "outputs": [
        {
          "output_type": "stream",
          "name": "stdout",
          "text": [
            "The average temperature error: 2.323521217822103\n"
          ]
        }
      ]
    },
    {
      "cell_type": "code",
      "metadata": {
        "colab": {
          "base_uri": "https://localhost:8080/",
          "height": 265
        },
        "id": "-7KTzJcohYOl",
        "outputId": "f457c86d-3075-477c-942b-69882dd1cc14"
      },
      "source": [
        "plt.plot(rnn_history.history['loss'], label='training_loss')\n",
        "plt.plot(rnn_history.history['val_loss'], label='validation loss')\n",
        "plt.legend()\n",
        "plt.show()"
      ],
      "id": "-7KTzJcohYOl",
      "execution_count": 21,
      "outputs": [
        {
          "output_type": "display_data",
          "data": {
            "image/png": "[encoded data removed]",
            "text/plain": [
              "<Figure size 432x288 with 1 Axes>"
            ]
          },
          "metadata": {
            "needs_background": "light"
          }
        }
      ]
    },
    {
      "cell_type": "markdown",
      "metadata": {
        "id": "LyG304sSiJcQ"
      },
      "source": [
        "## Compare RNN and Dense Neural Network"
      ],
      "id": "LyG304sSiJcQ"
    },
    {
      "cell_type": "code",
      "metadata": {
        "colab": {
          "base_uri": "https://localhost:8080/",
          "height": 265
        },
        "id": "Je4f-kZihYRG",
        "outputId": "f51762aa-e6f9-4171-91a8-725559076de3"
      },
      "source": [
        "plt.plot(dense_history.history['val_loss'], label='dense validation loss')\n",
        "plt.plot(rnn_history.history['val_loss'], label='rnn validation loss')\n",
        "plt.legend()\n",
        "plt.show()"
      ],
      "id": "Je4f-kZihYRG",
      "execution_count": 22,
      "outputs": [
        {
          "output_type": "display_data",
          "data": {
            "image/png": "[encoded data removed]",
            "text/plain": [
              "<Figure size 432x288 with 1 Axes>"
            ]
          },
          "metadata": {
            "needs_background": "light"
          }
        }
      ]
    },
    {
      "cell_type": "markdown",
      "metadata": {
        "id": "jBsV8GTDm0_A"
      },
      "source": [
        "## We have to try to generate Stateful RNN Module Data"
      ],
      "id": "jBsV8GTDm0_A"
    },
    {
      "cell_type": "code",
      "metadata": {
        "id": "twFOT7sTiPXd"
      },
      "source": [
        "def statefulGenerator(data, target,\n",
        "                      length=1,\n",
        "                      sampling_rate=1,\n",
        "                      stride=1,\n",
        "                      start_index=0,\n",
        "                      end_index=None, \n",
        "                      batch_size=128):\n",
        "  if end_index==None: end_index=len(data)-1\n",
        "  data_len = ((end_index-start_index+1)-length)//stride \n",
        "  tmp_batch_size = data_len//batch_size  # we can modify it from setting(32) to 1 when prediction\n",
        "\n",
        "  end_index = tmp_batch_size*batch_size*stride + (length-1) + start_index  \n",
        "  data_gen = TimeseriesGenerator(data, target, \n",
        "                               length=length,\n",
        "                               sampling_rate=sampling_rate,\n",
        "                               stride=stride,\n",
        "                               start_index=start_index,\n",
        "                               end_index=end_index,\n",
        "                               batch_size=tmp_batch_size)\n",
        "  \n",
        "  new_data = []\n",
        "  new_target = []\n",
        "\n",
        "  for i in data_gen:\n",
        "    new_data.append(i[0])\n",
        "    new_target.append(i[1])\n",
        "  \n",
        "  new_data = np.array(new_data)\n",
        "  new_target = np.array(new_target)\n",
        "\n",
        "  new_data = new_data.transpose(1, 0, 2, 3)\n",
        "  new_target = new_target.transpose(1, 0, 2)\n",
        "\n",
        "  new_data_gen = []\n",
        "  for i in range(len(new_data)):\n",
        "    new_data_gen.append((new_data[i], new_target[i]))\n",
        "\n",
        "  return new_data_gen\n"
      ],
      "id": "twFOT7sTiPXd",
      "execution_count": 23,
      "outputs": []
    },
    {
      "cell_type": "code",
      "metadata": {
        "id": "FD_QPMhTqYs_"
      },
      "source": [
        "# Create Training Data \n",
        "state_train_gen = statefulGenerator(data, target, \n",
        "                               length=length,\n",
        "                               sampling_rate=sampling_rate,\n",
        "                               stride=stride,\n",
        "                               start_index=0,\n",
        "                               end_index=100000,\n",
        "                               batch_size=batch_size)\n",
        "# Create Validation Data \n",
        "state_val_gen = statefulGenerator(data, target, \n",
        "                               length=length,\n",
        "                               sampling_rate=sampling_rate,\n",
        "                               stride=stride,\n",
        "                               start_index=100001,\n",
        "                               end_index=130000,\n",
        "                               batch_size=batch_size)\n",
        "# Create Testing Data \n",
        "state_test_gen = statefulGenerator(data, target, \n",
        "                               length=length,\n",
        "                               sampling_rate=sampling_rate,\n",
        "                               stride=stride,\n",
        "                               start_index=130001,\n",
        "                               end_index=None,\n",
        "                               batch_size=batch_size)"
      ],
      "id": "FD_QPMhTqYs_",
      "execution_count": 24,
      "outputs": []
    },
    {
      "cell_type": "code",
      "metadata": {
        "colab": {
          "base_uri": "https://localhost:8080/"
        },
        "id": "7sSaRrE-iPaF",
        "outputId": "feaac4de-7e13-4a8a-ce64-282f0f803714"
      },
      "source": [
        "state_model = Sequential([\n",
        "              layers.SimpleRNN(10, stateful=True, batch_input_shape=(32, 12, 1)),\n",
        "              layers.Dense(10, activation='relu'),\n",
        "              layers.Dense(1)\n",
        "])\n",
        "state_model.summary()"
      ],
      "id": "7sSaRrE-iPaF",
      "execution_count": 29,
      "outputs": [
        {
          "output_type": "stream",
          "name": "stdout",
          "text": [
            "Model: \"sequential_3\"\n",
            "_________________________________________________________________\n",
            "Layer (type)                 Output Shape              Param #   \n",
            "=================================================================\n",
            "simple_rnn_2 (SimpleRNN)     (32, 10)                  120       \n",
            "_________________________________________________________________\n",
            "dense_7 (Dense)              (32, 10)                  110       \n",
            "_________________________________________________________________\n",
            "dense_8 (Dense)              (32, 1)                   11        \n",
            "=================================================================\n",
            "Total params: 241\n",
            "Trainable params: 241\n",
            "Non-trainable params: 0\n",
            "_________________________________________________________________\n"
          ]
        }
      ]
    },
    {
      "cell_type": "markdown",
      "metadata": {
        "id": "P9brVIt0rHcd"
      },
      "source": [
        "## Turn the StatefulGenerator tuple to keras Sequence"
      ],
      "id": "P9brVIt0rHcd"
    },
    {
      "cell_type": "code",
      "metadata": {
        "colab": {
          "base_uri": "https://localhost:8080/"
        },
        "id": "s8GdWfmhq-7U",
        "outputId": "8afe1db5-1c5c-4f9b-83c9-596dfa23ef0c"
      },
      "source": [
        "from tensorflow.python.keras.utils.data_utils import iter_sequence_infinite as iter_inf \n",
        "state_model.compile(optimizer='rmsprop', loss='mse', metrics=['mae'])\n",
        "\n",
        "epochs = 100\n",
        "loss = []\n",
        "val_loss = []\n",
        "for i in range(epochs):\n",
        "  print('Epoch', i+1, '/', epochs)\n",
        "  state_history = state_model.fit_generator(iter_inf(state_train_gen),\n",
        "                                  steps_per_epoch=len(state_train_gen),\n",
        "                                  validation_data=iter_inf(state_val_gen),\n",
        "                                  validation_steps=len(state_val_gen),\n",
        "                                  epochs=1,\n",
        "                                  verbose=1,\n",
        "                                  shuffle=False) # Because the time series\n",
        "  loss.append(state_history.history['loss'])\n",
        "  val_loss.append(state_history.history['val_loss'])\n",
        "  state_model.reset_states()"
      ],
      "id": "s8GdWfmhq-7U",
      "execution_count": 30,
      "outputs": [
        {
          "output_type": "stream",
          "name": "stdout",
          "text": [
            "Epoch 1 / 100\n"
          ]
        },
        {
          "output_type": "stream",
          "name": "stderr",
          "text": [
            "/usr/local/lib/python3.7/dist-packages/keras/engine/training.py:1972: UserWarning: `Model.fit_generator` is deprecated and will be removed in a future version. Please use `Model.fit`, which supports generators.\n",
            "  warnings.warn('`Model.fit_generator` is deprecated and '\n"
          ]
        },
        {
          "output_type": "stream",
          "name": "stdout",
          "text": [
            "86/86 [==============================] - 1s 6ms/step - loss: 0.4321 - mae: 0.5166 - val_loss: 0.3328 - val_mae: 0.4480\n",
            "Epoch 2 / 100\n",
            "86/86 [==============================] - 0s 4ms/step - loss: 0.2753 - mae: 0.4152 - val_loss: 0.3117 - val_mae: 0.4354\n",
            "Epoch 3 / 100\n",
            "86/86 [==============================] - 0s 4ms/step - loss: 0.2641 - mae: 0.4054 - val_loss: 0.3226 - val_mae: 0.4417\n",
            "Epoch 4 / 100\n",
            "86/86 [==============================] - 0s 4ms/step - loss: 0.2560 - mae: 0.3970 - val_loss: 0.3171 - val_mae: 0.4374\n",
            "Epoch 5 / 100\n",
            "86/86 [==============================] - 0s 4ms/step - loss: 0.2478 - mae: 0.3889 - val_loss: 0.3109 - val_mae: 0.4335\n",
            "Epoch 6 / 100\n",
            "86/86 [==============================] - 0s 4ms/step - loss: 0.2446 - mae: 0.3848 - val_loss: 0.3072 - val_mae: 0.4283\n",
            "Epoch 7 / 100\n",
            "86/86 [==============================] - 0s 4ms/step - loss: 0.2399 - mae: 0.3799 - val_loss: 0.3065 - val_mae: 0.4275\n",
            "Epoch 8 / 100\n",
            "86/86 [==============================] - 0s 4ms/step - loss: 0.2388 - mae: 0.3783 - val_loss: 0.3068 - val_mae: 0.4275\n",
            "Epoch 9 / 100\n",
            "86/86 [==============================] - 0s 4ms/step - loss: 0.2373 - mae: 0.3770 - val_loss: 0.3057 - val_mae: 0.4267\n",
            "Epoch 10 / 100\n",
            "86/86 [==============================] - 0s 4ms/step - loss: 0.2361 - mae: 0.3755 - val_loss: 0.3056 - val_mae: 0.4267\n",
            "Epoch 11 / 100\n",
            "86/86 [==============================] - 0s 4ms/step - loss: 0.2353 - mae: 0.3749 - val_loss: 0.3046 - val_mae: 0.4264\n",
            "Epoch 12 / 100\n",
            "86/86 [==============================] - 0s 5ms/step - loss: 0.2350 - mae: 0.3746 - val_loss: 0.3037 - val_mae: 0.4259\n",
            "Epoch 13 / 100\n",
            "86/86 [==============================] - 0s 4ms/step - loss: 0.2334 - mae: 0.3731 - val_loss: 0.3020 - val_mae: 0.4242\n",
            "Epoch 14 / 100\n",
            "86/86 [==============================] - 0s 4ms/step - loss: 0.2325 - mae: 0.3721 - val_loss: 0.3018 - val_mae: 0.4241\n",
            "Epoch 15 / 100\n",
            "86/86 [==============================] - 0s 4ms/step - loss: 0.2332 - mae: 0.3729 - val_loss: 0.3028 - val_mae: 0.4254\n",
            "Epoch 16 / 100\n",
            "86/86 [==============================] - 0s 4ms/step - loss: 0.2323 - mae: 0.3718 - val_loss: 0.3050 - val_mae: 0.4268\n",
            "Epoch 17 / 100\n",
            "86/86 [==============================] - 0s 4ms/step - loss: 0.2320 - mae: 0.3713 - val_loss: 0.3043 - val_mae: 0.4254\n",
            "Epoch 18 / 100\n",
            "86/86 [==============================] - 0s 4ms/step - loss: 0.2314 - mae: 0.3709 - val_loss: 0.2998 - val_mae: 0.4223\n",
            "Epoch 19 / 100\n",
            "86/86 [==============================] - 0s 5ms/step - loss: 0.2306 - mae: 0.3701 - val_loss: 0.3046 - val_mae: 0.4252\n",
            "Epoch 20 / 100\n",
            "86/86 [==============================] - 0s 4ms/step - loss: 0.2294 - mae: 0.3691 - val_loss: 0.3002 - val_mae: 0.4218\n",
            "Epoch 21 / 100\n",
            "86/86 [==============================] - 0s 4ms/step - loss: 0.2282 - mae: 0.3679 - val_loss: 0.3003 - val_mae: 0.4221\n",
            "Epoch 22 / 100\n",
            "86/86 [==============================] - 0s 4ms/step - loss: 0.2283 - mae: 0.3678 - val_loss: 0.2979 - val_mae: 0.4199\n",
            "Epoch 23 / 100\n",
            "86/86 [==============================] - 0s 4ms/step - loss: 0.2278 - mae: 0.3673 - val_loss: 0.2979 - val_mae: 0.4203\n",
            "Epoch 24 / 100\n",
            "86/86 [==============================] - 0s 4ms/step - loss: 0.2268 - mae: 0.3664 - val_loss: 0.2965 - val_mae: 0.4186\n",
            "Epoch 25 / 100\n",
            "86/86 [==============================] - 0s 4ms/step - loss: 0.2260 - mae: 0.3660 - val_loss: 0.2928 - val_mae: 0.4158\n",
            "Epoch 26 / 100\n",
            "86/86 [==============================] - 0s 4ms/step - loss: 0.2255 - mae: 0.3653 - val_loss: 0.2916 - val_mae: 0.4140\n",
            "Epoch 27 / 100\n",
            "86/86 [==============================] - 0s 4ms/step - loss: 0.2247 - mae: 0.3645 - val_loss: 0.2902 - val_mae: 0.4129\n",
            "Epoch 28 / 100\n",
            "86/86 [==============================] - 0s 4ms/step - loss: 0.2239 - mae: 0.3637 - val_loss: 0.2894 - val_mae: 0.4115\n",
            "Epoch 29 / 100\n",
            "86/86 [==============================] - 0s 4ms/step - loss: 0.2230 - mae: 0.3630 - val_loss: 0.2891 - val_mae: 0.4107\n",
            "Epoch 30 / 100\n",
            "86/86 [==============================] - 0s 4ms/step - loss: 0.2222 - mae: 0.3622 - val_loss: 0.2868 - val_mae: 0.4089\n",
            "Epoch 31 / 100\n",
            "86/86 [==============================] - 0s 4ms/step - loss: 0.2216 - mae: 0.3615 - val_loss: 0.2865 - val_mae: 0.4093\n",
            "Epoch 32 / 100\n",
            "86/86 [==============================] - 0s 4ms/step - loss: 0.2202 - mae: 0.3600 - val_loss: 0.2840 - val_mae: 0.4075\n",
            "Epoch 33 / 100\n",
            "86/86 [==============================] - 0s 5ms/step - loss: 0.2189 - mae: 0.3587 - val_loss: 0.2815 - val_mae: 0.4055\n",
            "Epoch 34 / 100\n",
            "86/86 [==============================] - 0s 4ms/step - loss: 0.2177 - mae: 0.3573 - val_loss: 0.2772 - val_mae: 0.4023\n",
            "Epoch 35 / 100\n",
            "86/86 [==============================] - 0s 4ms/step - loss: 0.2166 - mae: 0.3563 - val_loss: 0.2744 - val_mae: 0.4001\n",
            "Epoch 36 / 100\n",
            "86/86 [==============================] - 0s 5ms/step - loss: 0.2152 - mae: 0.3550 - val_loss: 0.2717 - val_mae: 0.3983\n",
            "Epoch 37 / 100\n",
            "86/86 [==============================] - 0s 5ms/step - loss: 0.2135 - mae: 0.3536 - val_loss: 0.2684 - val_mae: 0.3958\n",
            "Epoch 38 / 100\n",
            "86/86 [==============================] - 0s 5ms/step - loss: 0.2113 - mae: 0.3514 - val_loss: 0.2643 - val_mae: 0.3933\n",
            "Epoch 39 / 100\n",
            "86/86 [==============================] - 0s 4ms/step - loss: 0.2099 - mae: 0.3500 - val_loss: 0.2612 - val_mae: 0.3912\n",
            "Epoch 40 / 100\n",
            "86/86 [==============================] - 0s 4ms/step - loss: 0.2087 - mae: 0.3490 - val_loss: 0.2595 - val_mae: 0.3895\n",
            "Epoch 41 / 100\n",
            "86/86 [==============================] - 0s 4ms/step - loss: 0.2075 - mae: 0.3479 - val_loss: 0.2577 - val_mae: 0.3882\n",
            "Epoch 42 / 100\n",
            "86/86 [==============================] - 0s 4ms/step - loss: 0.2065 - mae: 0.3469 - val_loss: 0.2562 - val_mae: 0.3864\n",
            "Epoch 43 / 100\n",
            "86/86 [==============================] - 0s 4ms/step - loss: 0.2054 - mae: 0.3459 - val_loss: 0.2538 - val_mae: 0.3845\n",
            "Epoch 44 / 100\n",
            "86/86 [==============================] - 0s 4ms/step - loss: 0.2044 - mae: 0.3448 - val_loss: 0.2521 - val_mae: 0.3827\n",
            "Epoch 45 / 100\n",
            "86/86 [==============================] - 0s 5ms/step - loss: 0.2036 - mae: 0.3438 - val_loss: 0.2501 - val_mae: 0.3807\n",
            "Epoch 46 / 100\n",
            "86/86 [==============================] - 0s 4ms/step - loss: 0.2023 - mae: 0.3425 - val_loss: 0.2493 - val_mae: 0.3798\n",
            "Epoch 47 / 100\n",
            "86/86 [==============================] - 0s 4ms/step - loss: 0.2015 - mae: 0.3416 - val_loss: 0.2487 - val_mae: 0.3786\n",
            "Epoch 48 / 100\n",
            "86/86 [==============================] - 0s 4ms/step - loss: 0.2004 - mae: 0.3406 - val_loss: 0.2478 - val_mae: 0.3770\n",
            "Epoch 49 / 100\n",
            "86/86 [==============================] - 0s 4ms/step - loss: 0.1995 - mae: 0.3396 - val_loss: 0.2468 - val_mae: 0.3759\n",
            "Epoch 50 / 100\n",
            "86/86 [==============================] - 0s 4ms/step - loss: 0.1990 - mae: 0.3390 - val_loss: 0.2448 - val_mae: 0.3738\n",
            "Epoch 51 / 100\n",
            "86/86 [==============================] - 0s 5ms/step - loss: 0.1981 - mae: 0.3380 - val_loss: 0.2435 - val_mae: 0.3731\n",
            "Epoch 52 / 100\n",
            "86/86 [==============================] - 0s 4ms/step - loss: 0.1975 - mae: 0.3372 - val_loss: 0.2414 - val_mae: 0.3709\n",
            "Epoch 53 / 100\n",
            "86/86 [==============================] - 0s 5ms/step - loss: 0.1968 - mae: 0.3363 - val_loss: 0.2403 - val_mae: 0.3698\n",
            "Epoch 54 / 100\n",
            "86/86 [==============================] - 0s 4ms/step - loss: 0.1962 - mae: 0.3357 - val_loss: 0.2381 - val_mae: 0.3679\n",
            "Epoch 55 / 100\n",
            "86/86 [==============================] - 0s 5ms/step - loss: 0.1957 - mae: 0.3352 - val_loss: 0.2367 - val_mae: 0.3666\n",
            "Epoch 56 / 100\n",
            "86/86 [==============================] - 0s 4ms/step - loss: 0.1951 - mae: 0.3348 - val_loss: 0.2364 - val_mae: 0.3664\n",
            "Epoch 57 / 100\n",
            "86/86 [==============================] - 0s 5ms/step - loss: 0.1947 - mae: 0.3341 - val_loss: 0.2361 - val_mae: 0.3656\n",
            "Epoch 58 / 100\n",
            "86/86 [==============================] - 0s 6ms/step - loss: 0.1942 - mae: 0.3336 - val_loss: 0.2377 - val_mae: 0.3667\n",
            "Epoch 59 / 100\n",
            "86/86 [==============================] - 0s 4ms/step - loss: 0.1935 - mae: 0.3331 - val_loss: 0.2354 - val_mae: 0.3650\n",
            "Epoch 60 / 100\n",
            "86/86 [==============================] - 0s 5ms/step - loss: 0.1927 - mae: 0.3327 - val_loss: 0.2290 - val_mae: 0.3616\n",
            "Epoch 61 / 100\n",
            "86/86 [==============================] - 0s 5ms/step - loss: 0.1914 - mae: 0.3313 - val_loss: 0.2256 - val_mae: 0.3589\n",
            "Epoch 62 / 100\n",
            "86/86 [==============================] - 0s 4ms/step - loss: 0.1901 - mae: 0.3302 - val_loss: 0.2255 - val_mae: 0.3604\n",
            "Epoch 63 / 100\n",
            "86/86 [==============================] - 0s 5ms/step - loss: 0.1896 - mae: 0.3295 - val_loss: 0.2238 - val_mae: 0.3605\n",
            "Epoch 64 / 100\n",
            "86/86 [==============================] - 0s 4ms/step - loss: 0.1886 - mae: 0.3284 - val_loss: 0.2252 - val_mae: 0.3621\n",
            "Epoch 65 / 100\n",
            "86/86 [==============================] - 0s 4ms/step - loss: 0.1875 - mae: 0.3269 - val_loss: 0.2177 - val_mae: 0.3532\n",
            "Epoch 66 / 100\n",
            "86/86 [==============================] - 0s 4ms/step - loss: 0.1868 - mae: 0.3261 - val_loss: 0.2166 - val_mae: 0.3534\n",
            "Epoch 67 / 100\n",
            "86/86 [==============================] - 0s 5ms/step - loss: 0.1862 - mae: 0.3257 - val_loss: 0.2199 - val_mae: 0.3571\n",
            "Epoch 68 / 100\n",
            "86/86 [==============================] - 0s 4ms/step - loss: 0.1861 - mae: 0.3256 - val_loss: 0.2160 - val_mae: 0.3513\n",
            "Epoch 69 / 100\n",
            "86/86 [==============================] - 0s 4ms/step - loss: 0.1853 - mae: 0.3247 - val_loss: 0.2157 - val_mae: 0.3519\n",
            "Epoch 70 / 100\n",
            "86/86 [==============================] - 0s 4ms/step - loss: 0.1851 - mae: 0.3245 - val_loss: 0.2147 - val_mae: 0.3506\n",
            "Epoch 71 / 100\n",
            "86/86 [==============================] - 0s 5ms/step - loss: 0.1845 - mae: 0.3238 - val_loss: 0.2169 - val_mae: 0.3549\n",
            "Epoch 72 / 100\n",
            "86/86 [==============================] - 0s 4ms/step - loss: 0.1843 - mae: 0.3238 - val_loss: 0.2147 - val_mae: 0.3511\n",
            "Epoch 73 / 100\n",
            "86/86 [==============================] - 0s 4ms/step - loss: 0.1840 - mae: 0.3232 - val_loss: 0.2140 - val_mae: 0.3497\n",
            "Epoch 74 / 100\n",
            "86/86 [==============================] - 0s 5ms/step - loss: 0.1833 - mae: 0.3227 - val_loss: 0.2138 - val_mae: 0.3489\n",
            "Epoch 75 / 100\n",
            "86/86 [==============================] - 0s 5ms/step - loss: 0.1830 - mae: 0.3221 - val_loss: 0.2135 - val_mae: 0.3485\n",
            "Epoch 76 / 100\n",
            "86/86 [==============================] - 0s 4ms/step - loss: 0.1822 - mae: 0.3212 - val_loss: 0.2150 - val_mae: 0.3468\n",
            "Epoch 77 / 100\n",
            "86/86 [==============================] - 0s 5ms/step - loss: 0.1821 - mae: 0.3213 - val_loss: 0.2150 - val_mae: 0.3468\n",
            "Epoch 78 / 100\n",
            "86/86 [==============================] - 0s 5ms/step - loss: 0.1813 - mae: 0.3199 - val_loss: 0.2125 - val_mae: 0.3471\n",
            "Epoch 79 / 100\n",
            "86/86 [==============================] - 0s 4ms/step - loss: 0.1804 - mae: 0.3195 - val_loss: 0.2126 - val_mae: 0.3478\n",
            "Epoch 80 / 100\n",
            "86/86 [==============================] - 0s 4ms/step - loss: 0.1798 - mae: 0.3190 - val_loss: 0.2127 - val_mae: 0.3487\n",
            "Epoch 81 / 100\n",
            "86/86 [==============================] - 0s 4ms/step - loss: 0.1798 - mae: 0.3191 - val_loss: 0.2111 - val_mae: 0.3438\n",
            "Epoch 82 / 100\n",
            "86/86 [==============================] - 0s 5ms/step - loss: 0.1791 - mae: 0.3187 - val_loss: 0.2137 - val_mae: 0.3520\n",
            "Epoch 83 / 100\n",
            "86/86 [==============================] - 0s 4ms/step - loss: 0.1791 - mae: 0.3189 - val_loss: 0.2100 - val_mae: 0.3464\n",
            "Epoch 84 / 100\n",
            "86/86 [==============================] - 0s 5ms/step - loss: 0.1784 - mae: 0.3184 - val_loss: 0.2084 - val_mae: 0.3438\n",
            "Epoch 85 / 100\n",
            "86/86 [==============================] - 0s 5ms/step - loss: 0.1784 - mae: 0.3184 - val_loss: 0.2076 - val_mae: 0.3423\n",
            "Epoch 86 / 100\n",
            "86/86 [==============================] - 0s 4ms/step - loss: 0.1775 - mae: 0.3175 - val_loss: 0.2077 - val_mae: 0.3443\n",
            "Epoch 87 / 100\n",
            "86/86 [==============================] - 0s 5ms/step - loss: 0.1778 - mae: 0.3178 - val_loss: 0.2065 - val_mae: 0.3422\n",
            "Epoch 88 / 100\n",
            "86/86 [==============================] - 0s 4ms/step - loss: 0.1777 - mae: 0.3177 - val_loss: 0.2089 - val_mae: 0.3471\n",
            "Epoch 89 / 100\n",
            "86/86 [==============================] - 0s 5ms/step - loss: 0.1778 - mae: 0.3183 - val_loss: 0.2070 - val_mae: 0.3442\n",
            "Epoch 90 / 100\n",
            "86/86 [==============================] - 0s 5ms/step - loss: 0.1775 - mae: 0.3177 - val_loss: 0.2082 - val_mae: 0.3470\n",
            "Epoch 91 / 100\n",
            "86/86 [==============================] - 0s 5ms/step - loss: 0.1769 - mae: 0.3174 - val_loss: 0.2077 - val_mae: 0.3458\n",
            "Epoch 92 / 100\n",
            "86/86 [==============================] - 0s 4ms/step - loss: 0.1767 - mae: 0.3171 - val_loss: 0.2073 - val_mae: 0.3452\n",
            "Epoch 93 / 100\n",
            "86/86 [==============================] - 0s 4ms/step - loss: 0.1763 - mae: 0.3166 - val_loss: 0.2062 - val_mae: 0.3433\n",
            "Epoch 94 / 100\n",
            "86/86 [==============================] - 0s 4ms/step - loss: 0.1757 - mae: 0.3158 - val_loss: 0.2063 - val_mae: 0.3444\n",
            "Epoch 95 / 100\n",
            "86/86 [==============================] - 0s 5ms/step - loss: 0.1761 - mae: 0.3165 - val_loss: 0.2071 - val_mae: 0.3456\n",
            "Epoch 96 / 100\n",
            "86/86 [==============================] - 0s 5ms/step - loss: 0.1752 - mae: 0.3156 - val_loss: 0.2064 - val_mae: 0.3447\n",
            "Epoch 97 / 100\n",
            "86/86 [==============================] - 0s 5ms/step - loss: 0.1754 - mae: 0.3156 - val_loss: 0.2065 - val_mae: 0.3444\n",
            "Epoch 98 / 100\n",
            "86/86 [==============================] - 0s 5ms/step - loss: 0.1750 - mae: 0.3151 - val_loss: 0.2059 - val_mae: 0.3439\n",
            "Epoch 99 / 100\n",
            "86/86 [==============================] - 0s 5ms/step - loss: 0.1746 - mae: 0.3143 - val_loss: 0.2058 - val_mae: 0.3439\n",
            "Epoch 100 / 100\n",
            "86/86 [==============================] - 0s 5ms/step - loss: 0.1740 - mae: 0.3136 - val_loss: 0.2063 - val_mae: 0.3444\n"
          ]
        }
      ]
    },
    {
      "cell_type": "code",
      "metadata": {
        "colab": {
          "base_uri": "https://localhost:8080/"
        },
        "id": "gFNgGnOpCxmT",
        "outputId": "21f4fa7b-6ce5-4ff7-a425-4811f0a647ff"
      },
      "source": [
        "print(\"The average temperature error:\", state_history.history['val_mae'][-1]*std)"
      ],
      "id": "gFNgGnOpCxmT",
      "execution_count": 33,
      "outputs": [
        {
          "output_type": "stream",
          "name": "stdout",
          "text": [
            "The average temperature error: 2.134915434487681\n"
          ]
        }
      ]
    },
    {
      "cell_type": "code",
      "metadata": {
        "colab": {
          "base_uri": "https://localhost:8080/",
          "height": 265
        },
        "id": "r5kzS7uVta7Q",
        "outputId": "2f9bbc18-653b-4630-d229-3cde6ca39b7f"
      },
      "source": [
        "plt.plot(loss, label='stateful rnn training loss')\n",
        "plt.plot(val_loss, label='stateful rnn validation loss')\n",
        "plt.legend()\n",
        "plt.show()"
      ],
      "id": "r5kzS7uVta7Q",
      "execution_count": 34,
      "outputs": [
        {
          "output_type": "display_data",
          "data": {
            "image/png": "[encoded data removed]",
            "text/plain": [
              "<Figure size 432x288 with 1 Axes>"
            ]
          },
          "metadata": {
            "needs_background": "light"
          }
        }
      ]
    },
    {
      "cell_type": "markdown",
      "metadata": {
        "id": "3DZoQMhduFrO"
      },
      "source": [
        "# The comparison of 3 method"
      ],
      "id": "3DZoQMhduFrO"
    },
    {
      "cell_type": "code",
      "metadata": {
        "colab": {
          "base_uri": "https://localhost:8080/",
          "height": 265
        },
        "id": "6wYgd2CQq-9b",
        "outputId": "6b480b68-542a-431e-823e-329d1d03c855"
      },
      "source": [
        "plt.plot(val_loss, label='stateful rnn validation loss')\n",
        "plt.plot(dense_history.history['val_loss'], label='dense validation loss')\n",
        "plt.plot(rnn_history.history['val_loss'], label='rnn validation loss')\n",
        "\n",
        "plt.legend()\n",
        "plt.show()"
      ],
      "id": "6wYgd2CQq-9b",
      "execution_count": 35,
      "outputs": [
        {
          "output_type": "display_data",
          "data": {
            "image/png": "[encoded data removed]",
            "text/plain": [
              "<Figure size 432x288 with 1 Axes>"
            ]
          },
          "metadata": {
            "needs_background": "light"
          }
        }
      ]
    },
    {
      "cell_type": "code",
      "metadata": {
        "colab": {
          "base_uri": "https://localhost:8080/"
        },
        "id": "A9ee6QKwH389",
        "outputId": "d28aad9c-bf4a-4a03-f93a-a9d2c3f50d2d"
      },
      "source": [
        "# evaluation will return loss and error\n",
        "print('Dense Neural Networl error:', dense_model.evaluate(test_gen, steps=None, verbose=0)[1])\n",
        "print(\"RNN error:\", rnn_model.evaluate(test_gen, steps=None, verbose=0)[1])\n",
        "print(\"Stateful RNN error:\", state_model.evaluate(iter_inf(state_test_gen), steps=len(state_test_gen), verbose=0)[1])"
      ],
      "id": "A9ee6QKwH389",
      "execution_count": 66,
      "outputs": [
        {
          "output_type": "stream",
          "name": "stdout",
          "text": [
            "Dense Neural Networl error: 0.3509666621685028\n",
            "RNN error: 0.3497828543186188\n",
            "Stateful RNN error: 0.32378363609313965\n"
          ]
        }
      ]
    },
    {
      "cell_type": "code",
      "metadata": {
        "id": "QysFyXPFEqN9"
      },
      "source": [
        "val_temp = []\n",
        "for datas in val_gen:\n",
        "  for temp in datas[1]:\n",
        "    val_temp.append(temp)"
      ],
      "id": "QysFyXPFEqN9",
      "execution_count": 60,
      "outputs": []
    },
    {
      "cell_type": "code",
      "metadata": {
        "id": "1B5kLHF2iPfh",
        "colab": {
          "base_uri": "https://localhost:8080/"
        },
        "outputId": "c2dec9ef-171e-4e1c-d8d9-ad188f264394"
      },
      "source": [
        "state_model.reset_states()\n",
        "prediction = state_model.predict_generator(iter_inf(state_val_gen), steps=len(state_val_gen))\n",
        "print(prediction.shape)"
      ],
      "id": "1B5kLHF2iPfh",
      "execution_count": 57,
      "outputs": [
        {
          "output_type": "stream",
          "name": "stdout",
          "text": [
            "(832, 1)\n"
          ]
        },
        {
          "output_type": "stream",
          "name": "stderr",
          "text": [
            "/usr/local/lib/python3.7/dist-packages/keras/engine/training.py:2035: UserWarning: `Model.predict_generator` is deprecated and will be removed in a future version. Please use `Model.predict`, which supports generators.\n",
            "  warnings.warn('`Model.predict_generator` is deprecated and '\n"
          ]
        }
      ]
    },
    {
      "cell_type": "code",
      "metadata": {
        "colab": {
          "base_uri": "https://localhost:8080/"
        },
        "id": "Wqinf7MdE5yD",
        "outputId": "ed647797-f00f-4cfd-8f98-047079d5acd3"
      },
      "source": [
        "prediction = prediction.reshape(len(prediction)//32, 32)\n",
        "print(prediction.shape)\n",
        "prediction = prediction.transpose(1, 0)\n",
        "print(prediction.shape)\n",
        "prediction = prediction.reshape(-1, )\n",
        "print(prediction.shape)"
      ],
      "id": "Wqinf7MdE5yD",
      "execution_count": 58,
      "outputs": [
        {
          "output_type": "stream",
          "name": "stdout",
          "text": [
            "(26, 32)\n",
            "(32, 26)\n",
            "(832,)\n"
          ]
        }
      ]
    },
    {
      "cell_type": "code",
      "metadata": {
        "id": "_IJodo54iPhz",
        "colab": {
          "base_uri": "https://localhost:8080/",
          "height": 265
        },
        "outputId": "0c2572a8-fcac-40a1-a74d-5e3c06c542c3"
      },
      "source": [
        "plt.plot(val_temp, label='the really answer')\n",
        "plt.plot(prediction, label='statefull rnn prediction')\n",
        "plt.legend()\n",
        "plt.show()"
      ],
      "id": "_IJodo54iPhz",
      "execution_count": 63,
      "outputs": [
        {
          "output_type": "display_data",
          "data": {
            "image/png": "[encoded data removed]",
            "text/plain": [
              "<Figure size 432x288 with 1 Axes>"
            ]
          },
          "metadata": {
            "needs_background": "light"
          }
        }
      ]
    },
    {
      "cell_type": "markdown",
      "metadata": {
        "id": "xR_rVBBjJc4j"
      },
      "source": [
        "# Final Big Tip: Using the weight of training model to predict another size of batch"
      ],
      "id": "xR_rVBBjJc4j"
    },
    {
      "cell_type": "code",
      "metadata": {
        "id": "sYwVDvstJo3D"
      },
      "source": [
        "state_model2 = Sequential([\n",
        "                       #                                            batch size, any timeseries, one feature\n",
        "                       layers.SimpleRNN(10, stateful=True, batch_input_shape=(1, None, 1)),\n",
        "                       layers.Dense(10, activation='relu'),\n",
        "                       layers.Dense(1)    \n",
        "])"
      ],
      "id": "sYwVDvstJo3D",
      "execution_count": 68,
      "outputs": []
    },
    {
      "cell_type": "code",
      "metadata": {
        "id": "uAg__UIHJo5W"
      },
      "source": [
        "state_model2.set_weights(state_model.get_weights())"
      ],
      "id": "uAg__UIHJo5W",
      "execution_count": 69,
      "outputs": []
    },
    {
      "cell_type": "markdown",
      "metadata": {
        "id": "joTYua9nLIQ-"
      },
      "source": [
        "## Now we can just input data to model2 with batch size 1"
      ],
      "id": "joTYua9nLIQ-"
    }
  ]
}