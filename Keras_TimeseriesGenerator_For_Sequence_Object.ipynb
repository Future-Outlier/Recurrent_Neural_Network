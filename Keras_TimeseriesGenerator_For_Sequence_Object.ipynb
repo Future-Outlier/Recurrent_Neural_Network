{
 "cells": [
  {
   "cell_type": "code",
   "execution_count": 1,
   "id": "21a244d9",
   "metadata": {},
   "outputs": [],
   "source": [
    "from tensorflow.keras.preprocessing.sequence import TimeseriesGenerator "
   ]
  },
  {
   "cell_type": "code",
   "execution_count": 2,
   "id": "aee28356",
   "metadata": {},
   "outputs": [
    {
     "name": "stdout",
     "output_type": "stream",
     "text": [
      "[[0], [1], [2], [3], [4], [5], [6], [7], [8], [9], [10], [11], [12], [13], [14], [15], [16], [17], [18], [19], [20], [21], [22], [23], [24]]\n"
     ]
    }
   ],
   "source": [
    "data = [[i] for i in range(25)]\n",
    "print(data)"
   ]
  },
  {
   "cell_type": "code",
   "execution_count": 3,
   "id": "5cd29a98",
   "metadata": {},
   "outputs": [],
   "source": [
    "data_gen = TimeseriesGenerator(data, \n",
    "                              data, \n",
    "                              length=4,# the range to sample\n",
    "                              sampling_rate=3,# the frequency to sample\n",
    "                              #TODO: add Picture about sampling_rate\n",
    "                              stride=2,# every time update when predict one result\n",
    "                              start_index=1,\n",
    "                              end_index=20,\n",
    "                              batch_size=3)"
   ]
  },
  {
   "cell_type": "code",
   "execution_count": 4,
   "id": "a50c1c4e",
   "metadata": {},
   "outputs": [
    {
     "data": {
      "text/plain": [
       "3"
      ]
     },
     "execution_count": 4,
     "metadata": {},
     "output_type": "execute_result"
    }
   ],
   "source": [
    "len(data_gen)"
   ]
  },
  {
   "cell_type": "code",
   "execution_count": 5,
   "id": "024a636e",
   "metadata": {},
   "outputs": [
    {
     "name": "stdout",
     "output_type": "stream",
     "text": [
      "data: \n",
      "[[[1]\n",
      "  [4]]\n",
      "\n",
      " [[3]\n",
      "  [6]]\n",
      "\n",
      " [[5]\n",
      "  [8]]]\n",
      "target: \n",
      "[[5]\n",
      " [7]\n",
      " [9]]\n"
     ]
    }
   ],
   "source": [
    "print(\"data: \")\n",
    "print(data_gen[0][0])\n",
    "print(\"target: \")\n",
    "print(data_gen[0][1])"
   ]
  },
  {
   "cell_type": "code",
   "execution_count": 6,
   "id": "67cffe33",
   "metadata": {},
   "outputs": [
    {
     "data": {
      "text/plain": [
       "keras.preprocessing.sequence.TimeseriesGenerator"
      ]
     },
     "execution_count": 6,
     "metadata": {},
     "output_type": "execute_result"
    }
   ],
   "source": [
    "type(data_gen)"
   ]
  }
 ],
 "metadata": {
  "kernelspec": {
   "display_name": "Python 3",
   "language": "python",
   "name": "python3"
  },
  "language_info": {
   "codemirror_mode": {
    "name": "ipython",
    "version": 3
   },
   "file_extension": ".py",
   "mimetype": "text/x-python",
   "name": "python",
   "nbconvert_exporter": "python",
   "pygments_lexer": "ipython3",
   "version": "3.8.8"
  }
 },
 "nbformat": 4,
 "nbformat_minor": 5
}
